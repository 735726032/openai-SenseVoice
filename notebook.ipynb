{
 "cells": [
  {
   "cell_type": "markdown",
   "metadata": {
    "id": "hG6BQ4619bgJ"
   },
   "source": [
    "# 介绍\n",
    "SenseVoice 是具有音频理解能力的音频基础模型，包括语音识别（ASR）、语种识别（LID）、语音情感识别（SER）和声学事件分类（AEC）或声学事件检测（AED）。本项目提供 SenseVoice 模型的介绍以及在多个任务测试集上的 benchmark，以及体验模型所需的环境安装的与推理方式。"
   ]
  },
  {
   "cell_type": "markdown",
   "metadata": {
    "id": "1f9rMnQOAkbN"
   },
   "source": "## 克隆仓库"
  },
  {
   "cell_type": "code",
   "execution_count": null,
   "metadata": {
    "id": "H8F9TYER81UC"
   },
   "outputs": [],
   "source": "!git clone https://github.com/FunAudioLLM/SenseVoice.git"
  },
  {
   "cell_type": "markdown",
   "metadata": {
    "id": "PGxY2uwbSTwu"
   },
   "source": "## 下载依赖"
  },
  {
   "cell_type": "code",
   "execution_count": null,
   "metadata": {
    "id": "Woo5ojd3Rz_Q"
   },
   "outputs": [],
   "source": [
    "!cd SenseVoice\n",
    "!pip install -r requirements.txt"
   ]
  },
  {
   "cell_type": "markdown",
   "metadata": {
    "id": "kwJDKiNaA306"
   },
   "source": "## 添加环境变量"
  },
  {
   "cell_type": "code",
   "execution_count": null,
   "metadata": {
    "id": "TK6H1zWXAqI8"
   },
   "outputs": [],
   "source": [
    "!vim .env\n",
    "\n",
    "# 环境变量\n",
    "PORT=8000               # 服务的端口\n",
    "API_KEY=dummy_api_key   # 授权KEY"
   ]
  },
  {
   "metadata": {},
   "cell_type": "markdown",
   "source": "## 提前下载模型（可选）"
  },
  {
   "metadata": {},
   "cell_type": "code",
   "outputs": [],
   "execution_count": null,
   "source": [
    "!python3 download_model.py\n",
    "# 模型默认下载路径 /root/.cache/modelscope/hub/models/iic/"
   ]
  },
  {
   "cell_type": "markdown",
   "metadata": {
    "id": "6QV-zCBNBzBC"
   },
   "source": "# 运行服务"
  },
  {
   "cell_type": "code",
   "execution_count": null,
   "metadata": {
    "id": "JAWrviSqBZ-3"
   },
   "outputs": [],
   "source": "!python3 main.py"
  }
 ],
 "metadata": {
  "accelerator": "GPU",
  "colab": {
   "gpuType": "T4",
   "provenance": [],
   "toc_visible": true
  },
  "kernelspec": {
   "display_name": "Python 3",
   "name": "python3"
  },
  "language_info": {
   "name": "python"
  }
 },
 "nbformat": 4,
 "nbformat_minor": 0
}
